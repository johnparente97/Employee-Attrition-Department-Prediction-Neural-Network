{
  "cells": [
    {
      "cell_type": "markdown",
      "metadata": {
        "id": "alIIEHibGc3M"
      },
      "source": [
        "## Part 1: Preprocessing"
      ]
    },
    {
      "cell_type": "code",
      "execution_count": 1,
      "metadata": {
        "colab": {
          "base_uri": "https://localhost:8080/",
          "height": 325
        },
        "id": "6eDUJ4NtGc3P",
        "outputId": "2480098c-135c-4cbf-9552-018494ee8ff5"
      },
      "outputs": [
        {
          "data": {
            "text/html": [
              "<div>\n",
              "<style scoped>\n",
              "    .dataframe tbody tr th:only-of-type {\n",
              "        vertical-align: middle;\n",
              "    }\n",
              "\n",
              "    .dataframe tbody tr th {\n",
              "        vertical-align: top;\n",
              "    }\n",
              "\n",
              "    .dataframe thead th {\n",
              "        text-align: right;\n",
              "    }\n",
              "</style>\n",
              "<table border=\"1\" class=\"dataframe\">\n",
              "  <thead>\n",
              "    <tr style=\"text-align: right;\">\n",
              "      <th></th>\n",
              "      <th>Age</th>\n",
              "      <th>Attrition</th>\n",
              "      <th>BusinessTravel</th>\n",
              "      <th>Department</th>\n",
              "      <th>DistanceFromHome</th>\n",
              "      <th>Education</th>\n",
              "      <th>EducationField</th>\n",
              "      <th>EnvironmentSatisfaction</th>\n",
              "      <th>HourlyRate</th>\n",
              "      <th>JobInvolvement</th>\n",
              "      <th>...</th>\n",
              "      <th>PerformanceRating</th>\n",
              "      <th>RelationshipSatisfaction</th>\n",
              "      <th>StockOptionLevel</th>\n",
              "      <th>TotalWorkingYears</th>\n",
              "      <th>TrainingTimesLastYear</th>\n",
              "      <th>WorkLifeBalance</th>\n",
              "      <th>YearsAtCompany</th>\n",
              "      <th>YearsInCurrentRole</th>\n",
              "      <th>YearsSinceLastPromotion</th>\n",
              "      <th>YearsWithCurrManager</th>\n",
              "    </tr>\n",
              "  </thead>\n",
              "  <tbody>\n",
              "    <tr>\n",
              "      <th>0</th>\n",
              "      <td>41</td>\n",
              "      <td>Yes</td>\n",
              "      <td>Travel_Rarely</td>\n",
              "      <td>Sales</td>\n",
              "      <td>1</td>\n",
              "      <td>2</td>\n",
              "      <td>Life Sciences</td>\n",
              "      <td>2</td>\n",
              "      <td>94</td>\n",
              "      <td>3</td>\n",
              "      <td>...</td>\n",
              "      <td>3</td>\n",
              "      <td>1</td>\n",
              "      <td>0</td>\n",
              "      <td>8</td>\n",
              "      <td>0</td>\n",
              "      <td>1</td>\n",
              "      <td>6</td>\n",
              "      <td>4</td>\n",
              "      <td>0</td>\n",
              "      <td>5</td>\n",
              "    </tr>\n",
              "    <tr>\n",
              "      <th>1</th>\n",
              "      <td>49</td>\n",
              "      <td>No</td>\n",
              "      <td>Travel_Frequently</td>\n",
              "      <td>Research &amp; Development</td>\n",
              "      <td>8</td>\n",
              "      <td>1</td>\n",
              "      <td>Life Sciences</td>\n",
              "      <td>3</td>\n",
              "      <td>61</td>\n",
              "      <td>2</td>\n",
              "      <td>...</td>\n",
              "      <td>4</td>\n",
              "      <td>4</td>\n",
              "      <td>1</td>\n",
              "      <td>10</td>\n",
              "      <td>3</td>\n",
              "      <td>3</td>\n",
              "      <td>10</td>\n",
              "      <td>7</td>\n",
              "      <td>1</td>\n",
              "      <td>7</td>\n",
              "    </tr>\n",
              "    <tr>\n",
              "      <th>2</th>\n",
              "      <td>37</td>\n",
              "      <td>Yes</td>\n",
              "      <td>Travel_Rarely</td>\n",
              "      <td>Research &amp; Development</td>\n",
              "      <td>2</td>\n",
              "      <td>2</td>\n",
              "      <td>Other</td>\n",
              "      <td>4</td>\n",
              "      <td>92</td>\n",
              "      <td>2</td>\n",
              "      <td>...</td>\n",
              "      <td>3</td>\n",
              "      <td>2</td>\n",
              "      <td>0</td>\n",
              "      <td>7</td>\n",
              "      <td>3</td>\n",
              "      <td>3</td>\n",
              "      <td>0</td>\n",
              "      <td>0</td>\n",
              "      <td>0</td>\n",
              "      <td>0</td>\n",
              "    </tr>\n",
              "    <tr>\n",
              "      <th>3</th>\n",
              "      <td>33</td>\n",
              "      <td>No</td>\n",
              "      <td>Travel_Frequently</td>\n",
              "      <td>Research &amp; Development</td>\n",
              "      <td>3</td>\n",
              "      <td>4</td>\n",
              "      <td>Life Sciences</td>\n",
              "      <td>4</td>\n",
              "      <td>56</td>\n",
              "      <td>3</td>\n",
              "      <td>...</td>\n",
              "      <td>3</td>\n",
              "      <td>3</td>\n",
              "      <td>0</td>\n",
              "      <td>8</td>\n",
              "      <td>3</td>\n",
              "      <td>3</td>\n",
              "      <td>8</td>\n",
              "      <td>7</td>\n",
              "      <td>3</td>\n",
              "      <td>0</td>\n",
              "    </tr>\n",
              "    <tr>\n",
              "      <th>4</th>\n",
              "      <td>27</td>\n",
              "      <td>No</td>\n",
              "      <td>Travel_Rarely</td>\n",
              "      <td>Research &amp; Development</td>\n",
              "      <td>2</td>\n",
              "      <td>1</td>\n",
              "      <td>Medical</td>\n",
              "      <td>1</td>\n",
              "      <td>40</td>\n",
              "      <td>3</td>\n",
              "      <td>...</td>\n",
              "      <td>3</td>\n",
              "      <td>4</td>\n",
              "      <td>1</td>\n",
              "      <td>6</td>\n",
              "      <td>3</td>\n",
              "      <td>3</td>\n",
              "      <td>2</td>\n",
              "      <td>2</td>\n",
              "      <td>2</td>\n",
              "      <td>2</td>\n",
              "    </tr>\n",
              "  </tbody>\n",
              "</table>\n",
              "<p>5 rows × 27 columns</p>\n",
              "</div>"
            ],
            "text/plain": [
              "   Age Attrition     BusinessTravel              Department  DistanceFromHome  \\\n",
              "0   41       Yes      Travel_Rarely                   Sales                 1   \n",
              "1   49        No  Travel_Frequently  Research & Development                 8   \n",
              "2   37       Yes      Travel_Rarely  Research & Development                 2   \n",
              "3   33        No  Travel_Frequently  Research & Development                 3   \n",
              "4   27        No      Travel_Rarely  Research & Development                 2   \n",
              "\n",
              "   Education EducationField  EnvironmentSatisfaction  HourlyRate  \\\n",
              "0          2  Life Sciences                        2          94   \n",
              "1          1  Life Sciences                        3          61   \n",
              "2          2          Other                        4          92   \n",
              "3          4  Life Sciences                        4          56   \n",
              "4          1        Medical                        1          40   \n",
              "\n",
              "   JobInvolvement  ...  PerformanceRating RelationshipSatisfaction  \\\n",
              "0               3  ...                  3                        1   \n",
              "1               2  ...                  4                        4   \n",
              "2               2  ...                  3                        2   \n",
              "3               3  ...                  3                        3   \n",
              "4               3  ...                  3                        4   \n",
              "\n",
              "   StockOptionLevel TotalWorkingYears  TrainingTimesLastYear WorkLifeBalance  \\\n",
              "0                 0                 8                      0               1   \n",
              "1                 1                10                      3               3   \n",
              "2                 0                 7                      3               3   \n",
              "3                 0                 8                      3               3   \n",
              "4                 1                 6                      3               3   \n",
              "\n",
              "   YearsAtCompany  YearsInCurrentRole  YearsSinceLastPromotion  \\\n",
              "0               6                   4                        0   \n",
              "1              10                   7                        1   \n",
              "2               0                   0                        0   \n",
              "3               8                   7                        3   \n",
              "4               2                   2                        2   \n",
              "\n",
              "   YearsWithCurrManager  \n",
              "0                     5  \n",
              "1                     7  \n",
              "2                     0  \n",
              "3                     0  \n",
              "4                     2  \n",
              "\n",
              "[5 rows x 27 columns]"
            ]
          },
          "execution_count": 1,
          "metadata": {},
          "output_type": "execute_result"
        }
      ],
      "source": [
        "# Import our dependencies\n",
        "from sklearn.model_selection import train_test_split\n",
        "from sklearn.preprocessing import StandardScaler\n",
        "import pandas as pd\n",
        "import numpy as np\n",
        "from tensorflow.keras.models import Model\n",
        "from tensorflow.keras import layers\n",
        "\n",
        "#  Import and read the attrition data\n",
        "attrition_df = pd.read_csv('https://static.bc-edx.com/ai/ail-v-1-0/m19/lms/datasets/attrition.csv')\n",
        "attrition_df.head()"
      ]
    },
    {
      "cell_type": "code",
      "execution_count": 2,
      "metadata": {
        "colab": {
          "base_uri": "https://localhost:8080/"
        },
        "id": "g22aQSY4Gc3Q",
        "outputId": "1f5c13c1-b981-4e40-a7ed-dd3fe6f1b81e"
      },
      "outputs": [
        {
          "data": {
            "text/plain": [
              "Age                         43\n",
              "Attrition                    2\n",
              "BusinessTravel               3\n",
              "Department                   3\n",
              "DistanceFromHome            29\n",
              "Education                    5\n",
              "EducationField               6\n",
              "EnvironmentSatisfaction      4\n",
              "HourlyRate                  71\n",
              "JobInvolvement               4\n",
              "JobLevel                     5\n",
              "JobRole                      9\n",
              "JobSatisfaction              4\n",
              "MaritalStatus                3\n",
              "NumCompaniesWorked          10\n",
              "OverTime                     2\n",
              "PercentSalaryHike           15\n",
              "PerformanceRating            2\n",
              "RelationshipSatisfaction     4\n",
              "StockOptionLevel             4\n",
              "TotalWorkingYears           40\n",
              "TrainingTimesLastYear        7\n",
              "WorkLifeBalance              4\n",
              "YearsAtCompany              37\n",
              "YearsInCurrentRole          19\n",
              "YearsSinceLastPromotion     16\n",
              "YearsWithCurrManager        18\n",
              "dtype: int64"
            ]
          },
          "execution_count": 2,
          "metadata": {},
          "output_type": "execute_result"
        }
      ],
      "source": [
        "# Determine the number of unique values in each column.\n",
        "attrition_df.nunique()"
      ]
    },
    {
      "cell_type": "code",
      "execution_count": 3,
      "metadata": {
        "id": "50vMgBEnJbfM"
      },
      "outputs": [
        {
          "data": {
            "text/html": [
              "<div>\n",
              "<style scoped>\n",
              "    .dataframe tbody tr th:only-of-type {\n",
              "        vertical-align: middle;\n",
              "    }\n",
              "\n",
              "    .dataframe tbody tr th {\n",
              "        vertical-align: top;\n",
              "    }\n",
              "\n",
              "    .dataframe thead th {\n",
              "        text-align: right;\n",
              "    }\n",
              "</style>\n",
              "<table border=\"1\" class=\"dataframe\">\n",
              "  <thead>\n",
              "    <tr style=\"text-align: right;\">\n",
              "      <th></th>\n",
              "      <th>Attrition</th>\n",
              "      <th>Department</th>\n",
              "    </tr>\n",
              "  </thead>\n",
              "  <tbody>\n",
              "    <tr>\n",
              "      <th>0</th>\n",
              "      <td>Yes</td>\n",
              "      <td>Sales</td>\n",
              "    </tr>\n",
              "    <tr>\n",
              "      <th>1</th>\n",
              "      <td>No</td>\n",
              "      <td>Research &amp; Development</td>\n",
              "    </tr>\n",
              "    <tr>\n",
              "      <th>2</th>\n",
              "      <td>Yes</td>\n",
              "      <td>Research &amp; Development</td>\n",
              "    </tr>\n",
              "    <tr>\n",
              "      <th>3</th>\n",
              "      <td>No</td>\n",
              "      <td>Research &amp; Development</td>\n",
              "    </tr>\n",
              "    <tr>\n",
              "      <th>4</th>\n",
              "      <td>No</td>\n",
              "      <td>Research &amp; Development</td>\n",
              "    </tr>\n",
              "    <tr>\n",
              "      <th>...</th>\n",
              "      <td>...</td>\n",
              "      <td>...</td>\n",
              "    </tr>\n",
              "    <tr>\n",
              "      <th>1465</th>\n",
              "      <td>No</td>\n",
              "      <td>Research &amp; Development</td>\n",
              "    </tr>\n",
              "    <tr>\n",
              "      <th>1466</th>\n",
              "      <td>No</td>\n",
              "      <td>Research &amp; Development</td>\n",
              "    </tr>\n",
              "    <tr>\n",
              "      <th>1467</th>\n",
              "      <td>No</td>\n",
              "      <td>Research &amp; Development</td>\n",
              "    </tr>\n",
              "    <tr>\n",
              "      <th>1468</th>\n",
              "      <td>No</td>\n",
              "      <td>Sales</td>\n",
              "    </tr>\n",
              "    <tr>\n",
              "      <th>1469</th>\n",
              "      <td>No</td>\n",
              "      <td>Research &amp; Development</td>\n",
              "    </tr>\n",
              "  </tbody>\n",
              "</table>\n",
              "<p>1470 rows × 2 columns</p>\n",
              "</div>"
            ],
            "text/plain": [
              "     Attrition              Department\n",
              "0          Yes                   Sales\n",
              "1           No  Research & Development\n",
              "2          Yes  Research & Development\n",
              "3           No  Research & Development\n",
              "4           No  Research & Development\n",
              "...        ...                     ...\n",
              "1465        No  Research & Development\n",
              "1466        No  Research & Development\n",
              "1467        No  Research & Development\n",
              "1468        No                   Sales\n",
              "1469        No  Research & Development\n",
              "\n",
              "[1470 rows x 2 columns]"
            ]
          },
          "execution_count": 3,
          "metadata": {},
          "output_type": "execute_result"
        }
      ],
      "source": [
        "# Create y_df with the Attrition and Department columns\n",
        "y = attrition_df[['Attrition', 'Department']]\n",
        "y\n"
      ]
    },
    {
      "cell_type": "code",
      "execution_count": 4,
      "metadata": {},
      "outputs": [
        {
          "data": {
            "text/plain": [
              "Attrition\n",
              "No     1233\n",
              "Yes     237\n",
              "Name: count, dtype: int64"
            ]
          },
          "execution_count": 4,
          "metadata": {},
          "output_type": "execute_result"
        }
      ],
      "source": [
        "y['Attrition'].value_counts()   "
      ]
    },
    {
      "cell_type": "code",
      "execution_count": 5,
      "metadata": {},
      "outputs": [
        {
          "data": {
            "text/plain": [
              "Department\n",
              "Research & Development    961\n",
              "Sales                     446\n",
              "Human Resources            63\n",
              "Name: count, dtype: int64"
            ]
          },
          "execution_count": 5,
          "metadata": {},
          "output_type": "execute_result"
        }
      ],
      "source": [
        "y['Department'].value_counts()"
      ]
    },
    {
      "cell_type": "code",
      "execution_count": 6,
      "metadata": {},
      "outputs": [
        {
          "data": {
            "text/plain": [
              "Age                         43\n",
              "Attrition                    2\n",
              "BusinessTravel               3\n",
              "Department                   3\n",
              "DistanceFromHome            29\n",
              "Education                    5\n",
              "EducationField               6\n",
              "EnvironmentSatisfaction      4\n",
              "HourlyRate                  71\n",
              "JobInvolvement               4\n",
              "JobLevel                     5\n",
              "JobRole                      9\n",
              "JobSatisfaction              4\n",
              "MaritalStatus                3\n",
              "NumCompaniesWorked          10\n",
              "OverTime                     2\n",
              "PercentSalaryHike           15\n",
              "PerformanceRating            2\n",
              "RelationshipSatisfaction     4\n",
              "StockOptionLevel             4\n",
              "TotalWorkingYears           40\n",
              "TrainingTimesLastYear        7\n",
              "WorkLifeBalance              4\n",
              "YearsAtCompany              37\n",
              "YearsInCurrentRole          19\n",
              "YearsSinceLastPromotion     16\n",
              "YearsWithCurrManager        18\n",
              "dtype: int64"
            ]
          },
          "execution_count": 6,
          "metadata": {},
          "output_type": "execute_result"
        }
      ],
      "source": [
        "attrition_df.nunique()"
      ]
    },
    {
      "cell_type": "code",
      "execution_count": 7,
      "metadata": {
        "colab": {
          "base_uri": "https://localhost:8080/"
        },
        "id": "Virka0zLGc3R",
        "outputId": "dd5aee3a-9458-4ba6-e857-1b234de40915"
      },
      "outputs": [
        {
          "data": {
            "text/plain": [
              "Age                        int64\n",
              "DistanceFromHome           int64\n",
              "Education                  int64\n",
              "HourlyRate                 int64\n",
              "NumCompaniesWorked         int64\n",
              "PercentSalaryHike          int64\n",
              "TotalWorkingYears          int64\n",
              "YearsAtCompany             int64\n",
              "YearsInCurrentRole         int64\n",
              "WorkLifeBalance            int64\n",
              "YearsSinceLastPromotion    int64\n",
              "YearsWithCurrManager       int64\n",
              "dtype: object"
            ]
          },
          "execution_count": 7,
          "metadata": {},
          "output_type": "execute_result"
        }
      ],
      "source": [
        "# Create a list of at least 10 column names to use as X data\n",
        "list_x = ['Age', 'DistanceFromHome', 'Education', 'HourlyRate', 'NumCompaniesWorked', 'PercentSalaryHike', 'TotalWorkingYears', 'YearsAtCompany', 'YearsInCurrentRole', 'WorkLifeBalance', 'YearsSinceLastPromotion', 'YearsWithCurrManager']\n",
        "\n",
        "\n",
        "# Create X_df using your selected columns\n",
        "X = attrition_df[list_x]\n",
        "\n",
        "# Show the data types for X_df\n",
        "X.dtypes\n"
      ]
    },
    {
      "cell_type": "code",
      "execution_count": 8,
      "metadata": {},
      "outputs": [
        {
          "data": {
            "text/html": [
              "<div>\n",
              "<style scoped>\n",
              "    .dataframe tbody tr th:only-of-type {\n",
              "        vertical-align: middle;\n",
              "    }\n",
              "\n",
              "    .dataframe tbody tr th {\n",
              "        vertical-align: top;\n",
              "    }\n",
              "\n",
              "    .dataframe thead th {\n",
              "        text-align: right;\n",
              "    }\n",
              "</style>\n",
              "<table border=\"1\" class=\"dataframe\">\n",
              "  <thead>\n",
              "    <tr style=\"text-align: right;\">\n",
              "      <th></th>\n",
              "      <th>Age</th>\n",
              "      <th>DistanceFromHome</th>\n",
              "      <th>Education</th>\n",
              "      <th>HourlyRate</th>\n",
              "      <th>NumCompaniesWorked</th>\n",
              "      <th>PercentSalaryHike</th>\n",
              "      <th>TotalWorkingYears</th>\n",
              "      <th>YearsAtCompany</th>\n",
              "      <th>YearsInCurrentRole</th>\n",
              "      <th>WorkLifeBalance</th>\n",
              "      <th>YearsSinceLastPromotion</th>\n",
              "      <th>YearsWithCurrManager</th>\n",
              "    </tr>\n",
              "  </thead>\n",
              "  <tbody>\n",
              "    <tr>\n",
              "      <th>0</th>\n",
              "      <td>41</td>\n",
              "      <td>1</td>\n",
              "      <td>2</td>\n",
              "      <td>94</td>\n",
              "      <td>8</td>\n",
              "      <td>11</td>\n",
              "      <td>8</td>\n",
              "      <td>6</td>\n",
              "      <td>4</td>\n",
              "      <td>1</td>\n",
              "      <td>0</td>\n",
              "      <td>5</td>\n",
              "    </tr>\n",
              "    <tr>\n",
              "      <th>1</th>\n",
              "      <td>49</td>\n",
              "      <td>8</td>\n",
              "      <td>1</td>\n",
              "      <td>61</td>\n",
              "      <td>1</td>\n",
              "      <td>23</td>\n",
              "      <td>10</td>\n",
              "      <td>10</td>\n",
              "      <td>7</td>\n",
              "      <td>3</td>\n",
              "      <td>1</td>\n",
              "      <td>7</td>\n",
              "    </tr>\n",
              "    <tr>\n",
              "      <th>2</th>\n",
              "      <td>37</td>\n",
              "      <td>2</td>\n",
              "      <td>2</td>\n",
              "      <td>92</td>\n",
              "      <td>6</td>\n",
              "      <td>15</td>\n",
              "      <td>7</td>\n",
              "      <td>0</td>\n",
              "      <td>0</td>\n",
              "      <td>3</td>\n",
              "      <td>0</td>\n",
              "      <td>0</td>\n",
              "    </tr>\n",
              "    <tr>\n",
              "      <th>3</th>\n",
              "      <td>33</td>\n",
              "      <td>3</td>\n",
              "      <td>4</td>\n",
              "      <td>56</td>\n",
              "      <td>1</td>\n",
              "      <td>11</td>\n",
              "      <td>8</td>\n",
              "      <td>8</td>\n",
              "      <td>7</td>\n",
              "      <td>3</td>\n",
              "      <td>3</td>\n",
              "      <td>0</td>\n",
              "    </tr>\n",
              "    <tr>\n",
              "      <th>4</th>\n",
              "      <td>27</td>\n",
              "      <td>2</td>\n",
              "      <td>1</td>\n",
              "      <td>40</td>\n",
              "      <td>9</td>\n",
              "      <td>12</td>\n",
              "      <td>6</td>\n",
              "      <td>2</td>\n",
              "      <td>2</td>\n",
              "      <td>3</td>\n",
              "      <td>2</td>\n",
              "      <td>2</td>\n",
              "    </tr>\n",
              "    <tr>\n",
              "      <th>...</th>\n",
              "      <td>...</td>\n",
              "      <td>...</td>\n",
              "      <td>...</td>\n",
              "      <td>...</td>\n",
              "      <td>...</td>\n",
              "      <td>...</td>\n",
              "      <td>...</td>\n",
              "      <td>...</td>\n",
              "      <td>...</td>\n",
              "      <td>...</td>\n",
              "      <td>...</td>\n",
              "      <td>...</td>\n",
              "    </tr>\n",
              "    <tr>\n",
              "      <th>1465</th>\n",
              "      <td>36</td>\n",
              "      <td>23</td>\n",
              "      <td>2</td>\n",
              "      <td>41</td>\n",
              "      <td>4</td>\n",
              "      <td>17</td>\n",
              "      <td>17</td>\n",
              "      <td>5</td>\n",
              "      <td>2</td>\n",
              "      <td>3</td>\n",
              "      <td>0</td>\n",
              "      <td>3</td>\n",
              "    </tr>\n",
              "    <tr>\n",
              "      <th>1466</th>\n",
              "      <td>39</td>\n",
              "      <td>6</td>\n",
              "      <td>1</td>\n",
              "      <td>42</td>\n",
              "      <td>4</td>\n",
              "      <td>15</td>\n",
              "      <td>9</td>\n",
              "      <td>7</td>\n",
              "      <td>7</td>\n",
              "      <td>3</td>\n",
              "      <td>1</td>\n",
              "      <td>7</td>\n",
              "    </tr>\n",
              "    <tr>\n",
              "      <th>1467</th>\n",
              "      <td>27</td>\n",
              "      <td>4</td>\n",
              "      <td>3</td>\n",
              "      <td>87</td>\n",
              "      <td>1</td>\n",
              "      <td>20</td>\n",
              "      <td>6</td>\n",
              "      <td>6</td>\n",
              "      <td>2</td>\n",
              "      <td>3</td>\n",
              "      <td>0</td>\n",
              "      <td>3</td>\n",
              "    </tr>\n",
              "    <tr>\n",
              "      <th>1468</th>\n",
              "      <td>49</td>\n",
              "      <td>2</td>\n",
              "      <td>3</td>\n",
              "      <td>63</td>\n",
              "      <td>2</td>\n",
              "      <td>14</td>\n",
              "      <td>17</td>\n",
              "      <td>9</td>\n",
              "      <td>6</td>\n",
              "      <td>2</td>\n",
              "      <td>0</td>\n",
              "      <td>8</td>\n",
              "    </tr>\n",
              "    <tr>\n",
              "      <th>1469</th>\n",
              "      <td>34</td>\n",
              "      <td>8</td>\n",
              "      <td>3</td>\n",
              "      <td>82</td>\n",
              "      <td>2</td>\n",
              "      <td>12</td>\n",
              "      <td>6</td>\n",
              "      <td>4</td>\n",
              "      <td>3</td>\n",
              "      <td>4</td>\n",
              "      <td>1</td>\n",
              "      <td>2</td>\n",
              "    </tr>\n",
              "  </tbody>\n",
              "</table>\n",
              "<p>1470 rows × 12 columns</p>\n",
              "</div>"
            ],
            "text/plain": [
              "      Age  DistanceFromHome  Education  HourlyRate  NumCompaniesWorked  \\\n",
              "0      41                 1          2          94                   8   \n",
              "1      49                 8          1          61                   1   \n",
              "2      37                 2          2          92                   6   \n",
              "3      33                 3          4          56                   1   \n",
              "4      27                 2          1          40                   9   \n",
              "...   ...               ...        ...         ...                 ...   \n",
              "1465   36                23          2          41                   4   \n",
              "1466   39                 6          1          42                   4   \n",
              "1467   27                 4          3          87                   1   \n",
              "1468   49                 2          3          63                   2   \n",
              "1469   34                 8          3          82                   2   \n",
              "\n",
              "      PercentSalaryHike  TotalWorkingYears  YearsAtCompany  \\\n",
              "0                    11                  8               6   \n",
              "1                    23                 10              10   \n",
              "2                    15                  7               0   \n",
              "3                    11                  8               8   \n",
              "4                    12                  6               2   \n",
              "...                 ...                ...             ...   \n",
              "1465                 17                 17               5   \n",
              "1466                 15                  9               7   \n",
              "1467                 20                  6               6   \n",
              "1468                 14                 17               9   \n",
              "1469                 12                  6               4   \n",
              "\n",
              "      YearsInCurrentRole  WorkLifeBalance  YearsSinceLastPromotion  \\\n",
              "0                      4                1                        0   \n",
              "1                      7                3                        1   \n",
              "2                      0                3                        0   \n",
              "3                      7                3                        3   \n",
              "4                      2                3                        2   \n",
              "...                  ...              ...                      ...   \n",
              "1465                   2                3                        0   \n",
              "1466                   7                3                        1   \n",
              "1467                   2                3                        0   \n",
              "1468                   6                2                        0   \n",
              "1469                   3                4                        1   \n",
              "\n",
              "      YearsWithCurrManager  \n",
              "0                        5  \n",
              "1                        7  \n",
              "2                        0  \n",
              "3                        0  \n",
              "4                        2  \n",
              "...                    ...  \n",
              "1465                     3  \n",
              "1466                     7  \n",
              "1467                     3  \n",
              "1468                     8  \n",
              "1469                     2  \n",
              "\n",
              "[1470 rows x 12 columns]"
            ]
          },
          "execution_count": 8,
          "metadata": {},
          "output_type": "execute_result"
        }
      ],
      "source": [
        "X"
      ]
    },
    {
      "cell_type": "code",
      "execution_count": 9,
      "metadata": {},
      "outputs": [
        {
          "name": "stdout",
          "output_type": "stream",
          "text": [
            "<class 'pandas.core.frame.DataFrame'>\n",
            "RangeIndex: 1470 entries, 0 to 1469\n",
            "Data columns (total 12 columns):\n",
            " #   Column                   Non-Null Count  Dtype\n",
            "---  ------                   --------------  -----\n",
            " 0   Age                      1470 non-null   int64\n",
            " 1   DistanceFromHome         1470 non-null   int64\n",
            " 2   Education                1470 non-null   int64\n",
            " 3   HourlyRate               1470 non-null   int64\n",
            " 4   NumCompaniesWorked       1470 non-null   int64\n",
            " 5   PercentSalaryHike        1470 non-null   int64\n",
            " 6   TotalWorkingYears        1470 non-null   int64\n",
            " 7   YearsAtCompany           1470 non-null   int64\n",
            " 8   YearsInCurrentRole       1470 non-null   int64\n",
            " 9   WorkLifeBalance          1470 non-null   int64\n",
            " 10  YearsSinceLastPromotion  1470 non-null   int64\n",
            " 11  YearsWithCurrManager     1470 non-null   int64\n",
            "dtypes: int64(12)\n",
            "memory usage: 137.9 KB\n"
          ]
        }
      ],
      "source": [
        "X.info()"
      ]
    },
    {
      "cell_type": "code",
      "execution_count": 10,
      "metadata": {
        "id": "KaJfdOGUMHMR"
      },
      "outputs": [],
      "source": [
        "# Split the data into training and testing sets\n",
        "from sklearn.model_selection import train_test_split\n",
        " \n",
        "X_train, X_test, y_train, y_test = train_test_split(X, y, random_state=78)\n",
        "\n"
      ]
    },
    {
      "cell_type": "code",
      "execution_count": 11,
      "metadata": {},
      "outputs": [
        {
          "data": {
            "text/plain": [
              "591     3\n",
              "267     6\n",
              "1236    2\n",
              "788     8\n",
              "1224    3\n",
              "       ..\n",
              "310     2\n",
              "105     3\n",
              "40      1\n",
              "470     2\n",
              "709     3\n",
              "Name: YearsAtCompany, Length: 1102, dtype: int64"
            ]
          },
          "execution_count": 11,
          "metadata": {},
          "output_type": "execute_result"
        }
      ],
      "source": [
        "# Show the YearsAtCompany column for the training set\n",
        "X_train['YearsAtCompany']"
      ]
    },
    {
      "cell_type": "code",
      "execution_count": 12,
      "metadata": {
        "colab": {
          "base_uri": "https://localhost:8080/"
        },
        "id": "NYubUJqiLCSp",
        "outputId": "53f31721-571c-4c94-d13e-25a715749593"
      },
      "outputs": [],
      "source": [
        "# Convert your X data to numeric data types however you see fit\n",
        "# Add new code cells as necessary\n",
        "# Use column YearsAtCompany\n",
        "\n",
        "X_train['YearsAtCompany'] = X_train['YearsAtCompany'].astype('int64')\n",
        "X_test['YearsAtCompany'] = X_test['YearsAtCompany'].astype('int64')"
      ]
    },
    {
      "cell_type": "code",
      "execution_count": 13,
      "metadata": {
        "id": "EWA-aIA5Gc3T"
      },
      "outputs": [],
      "source": [
        "# Create a StandardScaler\n",
        "scaler = StandardScaler()\n",
        "\n",
        "# Fit the StandardScaler to the training data\n",
        "X_scaled = scaler.fit(X)\n",
        "\n",
        "# Scale the training and testing data\n",
        "X_train_scaled = X_scaled.transform(X_train)\n",
        "X_test_scaled = X_scaled.transform(X_test)\n"
      ]
    },
    {
      "cell_type": "code",
      "execution_count": 14,
      "metadata": {
        "colab": {
          "base_uri": "https://localhost:8080/"
        },
        "id": "-z0Mky8vQSz4",
        "outputId": "debefc85-c20b-48f5-f4d9-91eadd65d36a"
      },
      "outputs": [],
      "source": [
        "from sklearn.preprocessing import OneHotEncoder\n",
        "\n",
        "# Create a OneHotEncoder for the Department column\n",
        "DepOHE = OneHotEncoder(sparse_output=False)\n",
        "\n",
        "# Fit the encoder to the training data\n",
        "DepOHE.fit(y_train[['Department']])\n",
        "\n",
        "# Create two new variables by applying the encoder\n",
        "# to the training and testing data\n",
        "y_train_encoded_Dep = DepOHE.transform(y_train[['Department']])\n",
        "y_test_encoded_Dep = DepOHE.transform(y_test[['Department']])\n",
        "\n",
        "\n"
      ]
    },
    {
      "cell_type": "code",
      "execution_count": 15,
      "metadata": {
        "colab": {
          "base_uri": "https://localhost:8080/"
        },
        "id": "-G4DSpvFRrk4",
        "outputId": "9842e948-8a55-4b80-8fac-f96714e85589"
      },
      "outputs": [],
      "source": [
        "# Create a OneHotEncoder for the Attrition column\n",
        "AttrOHE = OneHotEncoder(sparse_output=False)\n",
        "\n",
        "# Fit the encoder to the training data\n",
        "AttrOHE.fit(y_train[['Attrition']])\n",
        "\n",
        "# Create two new variables by applying the encoder\n",
        "# to the training and testing data\n",
        "y_train_encoded_Attr = AttrOHE.transform(y_train[['Attrition']])\n",
        "y_test_encoded_Attr = AttrOHE.transform(y_test[['Attrition']])"
      ]
    },
    {
      "cell_type": "markdown",
      "metadata": {
        "id": "ykNmu_WWGc3T"
      },
      "source": [
        "## Create, Compile, and Train the Model"
      ]
    },
    {
      "cell_type": "code",
      "execution_count": 16,
      "metadata": {
        "id": "WUptZqmSGc3T"
      },
      "outputs": [
        {
          "name": "stdout",
          "output_type": "stream",
          "text": [
            "The number of columns in the X train data are:  12\n"
          ]
        }
      ],
      "source": [
        "# Find the number of columns in the X training data\n",
        "num_cols = X_train_scaled.shape[1]\n",
        "print(\"The number of columns in the X train data are: \", num_cols)\n",
        "# Create the input layer\n",
        "input_layer = layers.Input(shape=(num_cols,))\n",
        "\n",
        "# Create at least two shared layers\n",
        "shared_layer1 = layers.Dense(55, activation='relu')(input_layer)\n",
        "shared_layer2 = layers.Dense(66, activation='relu')(shared_layer1)"
      ]
    },
    {
      "cell_type": "code",
      "execution_count": 17,
      "metadata": {},
      "outputs": [],
      "source": [
        "import tensorflow.keras as keras"
      ]
    },
    {
      "cell_type": "code",
      "execution_count": 18,
      "metadata": {
        "id": "JukjTm2yTEqd"
      },
      "outputs": [],
      "source": [
        "# Create a branch for Department\n",
        "# with a hidden layer and an output layer\n",
        "\n",
        "# Create the hidden layer\n",
        "dep_hidden = keras.layers.Dense(5, activation='relu')(shared_layer2)\n",
        "\n",
        "# Create the output layer\n",
        "dep_output = keras.layers.Dense(3, activation='softmax', name='Department')(dep_hidden)\n"
      ]
    },
    {
      "cell_type": "code",
      "execution_count": 19,
      "metadata": {
        "id": "9OqhUiOJUBkR"
      },
      "outputs": [],
      "source": [
        "# Create a branch for Attrition\n",
        "# with a hidden layer and an output layer\n",
        "\n",
        "# Create the hidden layer\n",
        "att_hidden = keras.layers.Dense(5, activation='relu')(shared_layer2)\n",
        "\n",
        "# Create the output layer\n",
        "att_output = keras.layers.Dense(2, activation='softmax', name='Attrition')(att_hidden)\n"
      ]
    },
    {
      "cell_type": "code",
      "execution_count": 20,
      "metadata": {
        "colab": {
          "base_uri": "https://localhost:8080/"
        },
        "id": "twmuejdxGc3T",
        "outputId": "25096308-b68b-42e4-e4ea-ae82e97c435a"
      },
      "outputs": [
        {
          "name": "stdout",
          "output_type": "stream",
          "text": [
            "Model: \"model\"\n",
            "__________________________________________________________________________________________________\n",
            " Layer (type)                Output Shape                 Param #   Connected to                  \n",
            "==================================================================================================\n",
            " input_1 (InputLayer)        [(None, 12)]                 0         []                            \n",
            "                                                                                                  \n",
            " dense (Dense)               (None, 55)                   715       ['input_1[0][0]']             \n",
            "                                                                                                  \n",
            " dense_1 (Dense)             (None, 66)                   3696      ['dense[0][0]']               \n",
            "                                                                                                  \n",
            " dense_2 (Dense)             (None, 5)                    335       ['dense_1[0][0]']             \n",
            "                                                                                                  \n",
            " dense_3 (Dense)             (None, 5)                    335       ['dense_1[0][0]']             \n",
            "                                                                                                  \n",
            " Department (Dense)          (None, 3)                    18        ['dense_2[0][0]']             \n",
            "                                                                                                  \n",
            " Attrition (Dense)           (None, 2)                    12        ['dense_3[0][0]']             \n",
            "                                                                                                  \n",
            "==================================================================================================\n",
            "Total params: 5111 (19.96 KB)\n",
            "Trainable params: 5111 (19.96 KB)\n",
            "Non-trainable params: 0 (0.00 Byte)\n",
            "__________________________________________________________________________________________________\n"
          ]
        }
      ],
      "source": [
        "# Create the model\n",
        "att_model = Model(inputs=input_layer, outputs=[dep_output, att_output])\n",
        "\n",
        "# Compile the model\n",
        "att_model.compile(optimizer='adam',\n",
        "                  loss={'Department': 'categorical_crossentropy', 'Attrition': 'binary_crossentropy'},\n",
        "                  metrics={'Department': 'accuracy',\n",
        "                           'Attrition': 'accuracy'})\n",
        "# Summarize the model\n",
        "att_model.summary()"
      ]
    },
    {
      "cell_type": "code",
      "execution_count": 21,
      "metadata": {
        "colab": {
          "base_uri": "https://localhost:8080/"
        },
        "id": "c8oGy0dpGc3U",
        "outputId": "cc667d43-28cf-42d4-d719-c2bc02888d30"
      },
      "outputs": [
        {
          "name": "stdout",
          "output_type": "stream",
          "text": [
            "Epoch 1/25\n"
          ]
        },
        {
          "name": "stdout",
          "output_type": "stream",
          "text": [
            "28/28 [==============================] - 0s 5ms/step - loss: 1.6761 - Department_loss: 1.0463 - Attrition_loss: 0.6298 - Department_accuracy: 0.3417 - Attrition_accuracy: 0.8070 - val_loss: 1.5635 - val_Department_loss: 0.9885 - val_Attrition_loss: 0.5750 - val_Department_accuracy: 0.4208 - val_Attrition_accuracy: 0.8235\n",
            "Epoch 2/25\n",
            "28/28 [==============================] - 0s 1ms/step - loss: 1.4116 - Department_loss: 0.8875 - Attrition_loss: 0.5241 - Department_accuracy: 0.5868 - Attrition_accuracy: 0.8286 - val_loss: 1.2888 - val_Department_loss: 0.7869 - val_Attrition_loss: 0.5019 - val_Department_accuracy: 0.6606 - val_Attrition_accuracy: 0.8235\n",
            "Epoch 3/25\n",
            "28/28 [==============================] - 0s 1ms/step - loss: 1.2422 - Department_loss: 0.7723 - Attrition_loss: 0.4699 - Department_accuracy: 0.6640 - Attrition_accuracy: 0.8286 - val_loss: 1.2245 - val_Department_loss: 0.7425 - val_Attrition_loss: 0.4820 - val_Department_accuracy: 0.6606 - val_Attrition_accuracy: 0.8235\n",
            "Epoch 4/25\n",
            "28/28 [==============================] - 0s 1ms/step - loss: 1.2105 - Department_loss: 0.7571 - Attrition_loss: 0.4534 - Department_accuracy: 0.6674 - Attrition_accuracy: 0.8286 - val_loss: 1.2151 - val_Department_loss: 0.7417 - val_Attrition_loss: 0.4734 - val_Department_accuracy: 0.6606 - val_Attrition_accuracy: 0.8235\n",
            "Epoch 5/25\n",
            "28/28 [==============================] - 0s 1ms/step - loss: 1.1879 - Department_loss: 0.7456 - Attrition_loss: 0.4423 - Department_accuracy: 0.6686 - Attrition_accuracy: 0.8286 - val_loss: 1.2096 - val_Department_loss: 0.7429 - val_Attrition_loss: 0.4668 - val_Department_accuracy: 0.6606 - val_Attrition_accuracy: 0.8235\n",
            "Epoch 6/25\n",
            "28/28 [==============================] - 0s 1ms/step - loss: 1.1742 - Department_loss: 0.7407 - Attrition_loss: 0.4336 - Department_accuracy: 0.6686 - Attrition_accuracy: 0.8286 - val_loss: 1.2034 - val_Department_loss: 0.7411 - val_Attrition_loss: 0.4623 - val_Department_accuracy: 0.6606 - val_Attrition_accuracy: 0.8235\n",
            "Epoch 7/25\n",
            "28/28 [==============================] - 0s 1ms/step - loss: 1.1581 - Department_loss: 0.7314 - Attrition_loss: 0.4267 - Department_accuracy: 0.6754 - Attrition_accuracy: 0.8286 - val_loss: 1.2012 - val_Department_loss: 0.7414 - val_Attrition_loss: 0.4597 - val_Department_accuracy: 0.6652 - val_Attrition_accuracy: 0.8235\n",
            "Epoch 8/25\n",
            "28/28 [==============================] - 0s 2ms/step - loss: 1.1455 - Department_loss: 0.7255 - Attrition_loss: 0.4200 - Department_accuracy: 0.6754 - Attrition_accuracy: 0.8286 - val_loss: 1.2041 - val_Department_loss: 0.7470 - val_Attrition_loss: 0.4571 - val_Department_accuracy: 0.6606 - val_Attrition_accuracy: 0.8235\n",
            "Epoch 9/25\n",
            "28/28 [==============================] - 0s 3ms/step - loss: 1.1360 - Department_loss: 0.7214 - Attrition_loss: 0.4145 - Department_accuracy: 0.6822 - Attrition_accuracy: 0.8286 - val_loss: 1.2046 - val_Department_loss: 0.7483 - val_Attrition_loss: 0.4562 - val_Department_accuracy: 0.6606 - val_Attrition_accuracy: 0.8235\n",
            "Epoch 10/25\n",
            "28/28 [==============================] - 0s 1ms/step - loss: 1.1249 - Department_loss: 0.7155 - Attrition_loss: 0.4095 - Department_accuracy: 0.6754 - Attrition_accuracy: 0.8286 - val_loss: 1.2036 - val_Department_loss: 0.7492 - val_Attrition_loss: 0.4544 - val_Department_accuracy: 0.6652 - val_Attrition_accuracy: 0.8235\n",
            "Epoch 11/25\n",
            "28/28 [==============================] - 0s 1ms/step - loss: 1.1188 - Department_loss: 0.7121 - Attrition_loss: 0.4067 - Department_accuracy: 0.6776 - Attrition_accuracy: 0.8286 - val_loss: 1.2046 - val_Department_loss: 0.7505 - val_Attrition_loss: 0.4541 - val_Department_accuracy: 0.6606 - val_Attrition_accuracy: 0.8235\n",
            "Epoch 12/25\n",
            "28/28 [==============================] - 0s 1ms/step - loss: 1.1114 - Department_loss: 0.7086 - Attrition_loss: 0.4029 - Department_accuracy: 0.6833 - Attrition_accuracy: 0.8286 - val_loss: 1.2003 - val_Department_loss: 0.7483 - val_Attrition_loss: 0.4520 - val_Department_accuracy: 0.6561 - val_Attrition_accuracy: 0.8235\n",
            "Epoch 13/25\n",
            "28/28 [==============================] - 0s 1ms/step - loss: 1.1056 - Department_loss: 0.7057 - Attrition_loss: 0.3999 - Department_accuracy: 0.6799 - Attrition_accuracy: 0.8286 - val_loss: 1.2111 - val_Department_loss: 0.7601 - val_Attrition_loss: 0.4510 - val_Department_accuracy: 0.6199 - val_Attrition_accuracy: 0.8235\n",
            "Epoch 14/25\n",
            "28/28 [==============================] - 0s 1ms/step - loss: 1.0930 - Department_loss: 0.6965 - Attrition_loss: 0.3965 - Department_accuracy: 0.6924 - Attrition_accuracy: 0.8286 - val_loss: 1.2128 - val_Department_loss: 0.7628 - val_Attrition_loss: 0.4500 - val_Department_accuracy: 0.6652 - val_Attrition_accuracy: 0.8235\n",
            "Epoch 15/25\n",
            "28/28 [==============================] - 0s 1ms/step - loss: 1.0900 - Department_loss: 0.6959 - Attrition_loss: 0.3942 - Department_accuracy: 0.6901 - Attrition_accuracy: 0.8286 - val_loss: 1.2109 - val_Department_loss: 0.7618 - val_Attrition_loss: 0.4491 - val_Department_accuracy: 0.6561 - val_Attrition_accuracy: 0.8235\n",
            "Epoch 16/25\n",
            "28/28 [==============================] - 0s 1ms/step - loss: 1.0800 - Department_loss: 0.6878 - Attrition_loss: 0.3922 - Department_accuracy: 0.6969 - Attrition_accuracy: 0.8286 - val_loss: 1.2126 - val_Department_loss: 0.7643 - val_Attrition_loss: 0.4484 - val_Department_accuracy: 0.6199 - val_Attrition_accuracy: 0.8235\n",
            "Epoch 17/25\n",
            "28/28 [==============================] - 0s 1ms/step - loss: 1.0762 - Department_loss: 0.6861 - Attrition_loss: 0.3901 - Department_accuracy: 0.6924 - Attrition_accuracy: 0.8286 - val_loss: 1.2073 - val_Department_loss: 0.7603 - val_Attrition_loss: 0.4469 - val_Department_accuracy: 0.6516 - val_Attrition_accuracy: 0.8235\n",
            "Epoch 18/25\n",
            "28/28 [==============================] - 0s 1ms/step - loss: 1.0660 - Department_loss: 0.6777 - Attrition_loss: 0.3883 - Department_accuracy: 0.6947 - Attrition_accuracy: 0.8286 - val_loss: 1.2104 - val_Department_loss: 0.7642 - val_Attrition_loss: 0.4462 - val_Department_accuracy: 0.6425 - val_Attrition_accuracy: 0.8235\n",
            "Epoch 19/25\n",
            "28/28 [==============================] - 0s 1ms/step - loss: 1.0594 - Department_loss: 0.6729 - Attrition_loss: 0.3865 - Department_accuracy: 0.7026 - Attrition_accuracy: 0.8286 - val_loss: 1.2149 - val_Department_loss: 0.7676 - val_Attrition_loss: 0.4473 - val_Department_accuracy: 0.6606 - val_Attrition_accuracy: 0.8235\n",
            "Epoch 20/25\n",
            "28/28 [==============================] - 0s 1ms/step - loss: 1.0512 - Department_loss: 0.6658 - Attrition_loss: 0.3854 - Department_accuracy: 0.7072 - Attrition_accuracy: 0.8297 - val_loss: 1.2132 - val_Department_loss: 0.7671 - val_Attrition_loss: 0.4461 - val_Department_accuracy: 0.6425 - val_Attrition_accuracy: 0.8235\n",
            "Epoch 21/25\n",
            "28/28 [==============================] - 0s 1ms/step - loss: 1.0502 - Department_loss: 0.6654 - Attrition_loss: 0.3849 - Department_accuracy: 0.7026 - Attrition_accuracy: 0.8365 - val_loss: 1.2162 - val_Department_loss: 0.7697 - val_Attrition_loss: 0.4466 - val_Department_accuracy: 0.6199 - val_Attrition_accuracy: 0.8235\n",
            "Epoch 22/25\n",
            "28/28 [==============================] - 0s 1ms/step - loss: 1.0393 - Department_loss: 0.6579 - Attrition_loss: 0.3814 - Department_accuracy: 0.7174 - Attrition_accuracy: 0.8286 - val_loss: 1.2188 - val_Department_loss: 0.7719 - val_Attrition_loss: 0.4469 - val_Department_accuracy: 0.6561 - val_Attrition_accuracy: 0.8235\n",
            "Epoch 23/25\n",
            "28/28 [==============================] - 0s 1ms/step - loss: 1.0311 - Department_loss: 0.6513 - Attrition_loss: 0.3798 - Department_accuracy: 0.7037 - Attrition_accuracy: 0.8309 - val_loss: 1.2245 - val_Department_loss: 0.7781 - val_Attrition_loss: 0.4463 - val_Department_accuracy: 0.6154 - val_Attrition_accuracy: 0.8190\n",
            "Epoch 24/25\n",
            "28/28 [==============================] - 0s 2ms/step - loss: 1.0293 - Department_loss: 0.6516 - Attrition_loss: 0.3777 - Department_accuracy: 0.7083 - Attrition_accuracy: 0.8331 - val_loss: 1.2304 - val_Department_loss: 0.7833 - val_Attrition_loss: 0.4471 - val_Department_accuracy: 0.6516 - val_Attrition_accuracy: 0.8190\n",
            "Epoch 25/25\n",
            "28/28 [==============================] - 0s 1ms/step - loss: 1.0175 - Department_loss: 0.6414 - Attrition_loss: 0.3761 - Department_accuracy: 0.7185 - Attrition_accuracy: 0.8354 - val_loss: 1.2302 - val_Department_loss: 0.7844 - val_Attrition_loss: 0.4457 - val_Department_accuracy: 0.6154 - val_Attrition_accuracy: 0.8235\n"
          ]
        },
        {
          "data": {
            "text/plain": [
              "<keras.src.callbacks.History at 0x17ab123d0>"
            ]
          },
          "execution_count": 21,
          "metadata": {},
          "output_type": "execute_result"
        }
      ],
      "source": [
        "# Train the model\n",
        "att_model.fit(X_train_scaled, {'Department': y_train_encoded_Dep, 'Attrition': y_train_encoded_Attr}, \n",
        "              epochs=25, validation_split=0.2, verbose=1)\n"
      ]
    },
    {
      "cell_type": "code",
      "execution_count": 22,
      "metadata": {
        "colab": {
          "base_uri": "https://localhost:8080/"
        },
        "id": "VsMoaQlgGc3U",
        "outputId": "1bd4e601-e964-4abc-ad83-aeecf6b696be"
      },
      "outputs": [
        {
          "name": "stdout",
          "output_type": "stream",
          "text": [
            "12/12 [==============================] - 0s 677us/step - loss: 1.3349 - Department_loss: 0.9432 - Attrition_loss: 0.3917 - Department_accuracy: 0.5625 - Attrition_accuracy: 0.8777\n"
          ]
        }
      ],
      "source": [
        "# Evaluate the model with the testing data\n",
        "results = att_model.evaluate(X_test_scaled, {'Department': y_test_encoded_Dep, 'Attrition': y_test_encoded_Attr}, verbose=1)"
      ]
    },
    {
      "cell_type": "code",
      "execution_count": 23,
      "metadata": {
        "colab": {
          "base_uri": "https://localhost:8080/"
        },
        "id": "ZlCtlHi0Vt54",
        "outputId": "bc21ef3e-80c2-4b38-9c29-79515bc23dec"
      },
      "outputs": [
        {
          "name": "stdout",
          "output_type": "stream",
          "text": [
            "Department Accuracy: 56.25\n",
            "Attrition Accuracy: 87.771737575531\n"
          ]
        }
      ],
      "source": [
        "# Print the accuracy for both department and attrition\n",
        "print(f\"Department Accuracy: {results[3]*100}\")\n",
        "print(f\"Attrition Accuracy: {results[4]*100}\")"
      ]
    },
    {
      "cell_type": "markdown",
      "metadata": {
        "id": "eGSyfsZfWOQM"
      },
      "source": [
        "# Summary\n",
        "\n",
        "In the provided space below, briefly answer the following questions.\n",
        "\n",
        "1. Is accuracy the best metric to use on this data? Why or why not?\n",
        "\n",
        "2. What activation functions did you choose for your output layers, and why?\n",
        "\n",
        "3. Can you name a few ways that this model might be improved?"
      ]
    },
    {
      "cell_type": "markdown",
      "metadata": {
        "id": "pi9SLpFnWvbF"
      },
      "source": [
        "YOUR ANSWERS HERE\n",
        "\n",
        "1. The accuracy is the best metric to use on the data because \n",
        "2. The activation functions used were Softmax and Relu. Softmax is used for \"Department\" column since it has multiple categories. Relu was used to allow the model to learn and represent more complex patterns in the data.\n",
        "3. The model could be improved by using more data, to increase the amount of training data and gain a deeper understanding on patterns and relationships. The architecture of the model could also be modified to improve its performance. "
      ]
    },
    {
      "cell_type": "markdown",
      "metadata": {},
      "source": []
    }
  ],
  "metadata": {
    "colab": {
      "provenance": []
    },
    "kernelspec": {
      "display_name": "Python 3",
      "language": "python",
      "name": "python3"
    },
    "language_info": {
      "codemirror_mode": {
        "name": "ipython",
        "version": 3
      },
      "file_extension": ".py",
      "mimetype": "text/x-python",
      "name": "python",
      "nbconvert_exporter": "python",
      "pygments_lexer": "ipython3",
      "version": "3.11.5"
    },
    "vscode": {
      "interpreter": {
        "hash": "31f2aee4e71d21fbe5cf8b01ff0e069b9275f58929596ceb00d14d90e3e16cd6"
      }
    }
  },
  "nbformat": 4,
  "nbformat_minor": 0
}
